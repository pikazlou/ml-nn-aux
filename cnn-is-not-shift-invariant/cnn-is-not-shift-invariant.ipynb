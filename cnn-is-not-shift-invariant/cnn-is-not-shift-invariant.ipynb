{
 "cells": [
  {
   "cell_type": "markdown",
   "id": "57663e04-1286-4b90-a1b7-17e547830402",
   "metadata": {},
   "source": [
    "## Motivation\n",
    "CNN are sometimes claimed to be insensitive to image translations. Sometimes the term \"shift-invariant\" is used. These claims include statements such as \n",
    "> After learning a certain pattern in the lower-right corner of a picture, a convnet can recognize it anywhere: for example, in the upper-left corner.\n",
    ">\n",
    "In this notebook I try to verify these claim.\n",
    "\n",
    "The dataset used is MNIST."
   ]
  },
  {
   "cell_type": "code",
   "execution_count": 1,
   "id": "bf9f080d-0bf6-41a9-9734-8d5328046bac",
   "metadata": {},
   "outputs": [],
   "source": [
    "import numpy as np\n",
    "import tensorflow as tf\n",
    "from tensorflow import keras\n",
    "from tensorflow.keras import layers\n",
    "from matplotlib import pyplot as plt"
   ]
  },
  {
   "cell_type": "code",
   "execution_count": 9,
   "id": "a92b634a-6972-4011-847c-b47e30b6aebe",
   "metadata": {},
   "outputs": [],
   "source": [
    "(x_train, y_train), (x_test, y_test) = keras.datasets.mnist.load_data()\n",
    "x_train = x_train.astype('float32') / 255.\n",
    "x_test = x_test.astype('float32') / 255."
   ]
  },
  {
   "cell_type": "code",
   "execution_count": 38,
   "id": "16df30c8-6376-42c0-9082-a0fd09f3e0c9",
   "metadata": {},
   "outputs": [],
   "source": [
    "image_size = x_train.shape[1]"
   ]
  },
  {
   "cell_type": "markdown",
   "id": "f948d24f-f97e-4ea0-915b-a6e7fa79dfa4",
   "metadata": {},
   "source": [
    "## Network architecture\n",
    "I alternate between convolution and max-pooling layers, doubling number of filters each time. I do so, until the size of feature map becomes 1x1. This way I make my best attempt to allow any region from input to affect the classification. Thus, architecture should not prevent the model from being insensitive to shifts.\n",
    "\n",
    "I also create simple MLP model with one hidden layer. The size of hidden layer was chosen so that MLP and CNN architectures expose roughly similar amount of parameters. I do so to have a fair comparison of MLP and CNN ability to perform on shifted images."
   ]
  },
  {
   "cell_type": "code",
   "execution_count": 172,
   "id": "114ce7f3-76fb-4fb4-a89c-d250293f5ba4",
   "metadata": {},
   "outputs": [],
   "source": [
    "def create_cnn_model():\n",
    "    inputs = keras.Input(shape=(image_size, image_size, 1))\n",
    "    x = inputs\n",
    "    x = layers.Convolution2D(8, 3, activation=\"relu\", padding=\"same\")(x)\n",
    "    x = layers.MaxPool2D()(x)\n",
    "    x = layers.Convolution2D(16, 3, activation=\"relu\", padding=\"same\")(x)\n",
    "    x = layers.MaxPool2D()(x)\n",
    "    x = layers.Convolution2D(32, 3, activation=\"relu\", padding=\"same\")(x)\n",
    "    x = layers.MaxPool2D()(x)\n",
    "    x = layers.Convolution2D(64, 3, activation=\"relu\", padding=\"same\")(x)\n",
    "    x = layers.MaxPool2D()(x)\n",
    "    x = layers.Flatten()(x)\n",
    "    outputs = layers.Dense(10, activation=\"sigmoid\")(x)\n",
    "    return keras.Model(inputs, outputs)\n",
    "\n",
    "def create_mlp_model():\n",
    "    inputs = keras.Input(shape=(image_size, image_size))\n",
    "    x = inputs\n",
    "    x = layers.Flatten()(x)\n",
    "    # trying to have the number of parameters approximately equal to the number of params in CNN to have fair comparison\n",
    "    x = layers.Dense(32, activation=\"relu\")(x)\n",
    "    outputs = layers.Dense(10, activation=\"sigmoid\")(x)\n",
    "    return keras.Model(inputs, outputs)"
   ]
  },
  {
   "cell_type": "code",
   "execution_count": 173,
   "id": "e9d2cbf1-038e-44f5-afb6-36e1dbdebd60",
   "metadata": {},
   "outputs": [
    {
     "name": "stdout",
     "output_type": "stream",
     "text": [
      "Model: \"model_28\"\n",
      "_________________________________________________________________\n",
      " Layer (type)                Output Shape              Param #   \n",
      "=================================================================\n",
      " input_30 (InputLayer)       [(None, 28, 28, 1)]       0         \n",
      "                                                                 \n",
      " conv2d_32 (Conv2D)          (None, 28, 28, 8)         80        \n",
      "                                                                 \n",
      " max_pooling2d_30 (MaxPoolin  (None, 14, 14, 8)        0         \n",
      " g2D)                                                            \n",
      "                                                                 \n",
      " conv2d_33 (Conv2D)          (None, 14, 14, 16)        1168      \n",
      "                                                                 \n",
      " max_pooling2d_31 (MaxPoolin  (None, 7, 7, 16)         0         \n",
      " g2D)                                                            \n",
      "                                                                 \n",
      " conv2d_34 (Conv2D)          (None, 7, 7, 32)          4640      \n",
      "                                                                 \n",
      " max_pooling2d_32 (MaxPoolin  (None, 3, 3, 32)         0         \n",
      " g2D)                                                            \n",
      "                                                                 \n",
      " conv2d_35 (Conv2D)          (None, 3, 3, 64)          18496     \n",
      "                                                                 \n",
      " max_pooling2d_33 (MaxPoolin  (None, 1, 1, 64)         0         \n",
      " g2D)                                                            \n",
      "                                                                 \n",
      " flatten_28 (Flatten)        (None, 64)                0         \n",
      "                                                                 \n",
      " dense_39 (Dense)            (None, 10)                650       \n",
      "                                                                 \n",
      "=================================================================\n",
      "Total params: 25,034\n",
      "Trainable params: 25,034\n",
      "Non-trainable params: 0\n",
      "_________________________________________________________________\n"
     ]
    }
   ],
   "source": [
    "cnn_model = create_cnn_model()\n",
    "cnn_model.summary()"
   ]
  },
  {
   "cell_type": "code",
   "execution_count": 174,
   "id": "863ee5ce-0423-41c5-bc00-cac33e51121d",
   "metadata": {},
   "outputs": [
    {
     "name": "stdout",
     "output_type": "stream",
     "text": [
      "Model: \"model_29\"\n",
      "_________________________________________________________________\n",
      " Layer (type)                Output Shape              Param #   \n",
      "=================================================================\n",
      " input_31 (InputLayer)       [(None, 28, 28)]          0         \n",
      "                                                                 \n",
      " flatten_29 (Flatten)        (None, 784)               0         \n",
      "                                                                 \n",
      " dense_40 (Dense)            (None, 32)                25120     \n",
      "                                                                 \n",
      " dense_41 (Dense)            (None, 10)                330       \n",
      "                                                                 \n",
      "=================================================================\n",
      "Total params: 25,450\n",
      "Trainable params: 25,450\n",
      "Non-trainable params: 0\n",
      "_________________________________________________________________\n"
     ]
    }
   ],
   "source": [
    "mlp_model = create_mlp_model()\n",
    "mlp_model.summary()"
   ]
  },
  {
   "cell_type": "markdown",
   "id": "c67ba206-6878-4657-b36e-665170139441",
   "metadata": {},
   "source": [
    "## Training\n",
    "I train 4 models:\n",
    " * MLP on original MNIST train dataset\n",
    " * MLP on randomly shifted MNIST train dataset (referred as \"MLP (aug)\", meaning augmented train dataset)\n",
    " * CNN on original MNIST train dataset\n",
    " * CNN on randomly shifted MNIST train dataset (referred as \"CNN (aug)\", meaning augmented train dataset)"
   ]
  },
  {
   "cell_type": "code",
   "execution_count": 175,
   "id": "55dad722-d105-41b0-a0da-5a16ffeaa884",
   "metadata": {},
   "outputs": [
    {
     "name": "stdout",
     "output_type": "stream",
     "text": [
      "Epoch 1/30\n",
      "118/118 [==============================] - 3s 25ms/step - loss: 0.7935 - accuracy: 0.7788 - val_loss: 0.2289 - val_accuracy: 0.9323\n",
      "Epoch 2/30\n",
      "118/118 [==============================] - 3s 25ms/step - loss: 0.1638 - accuracy: 0.9514 - val_loss: 0.1100 - val_accuracy: 0.9652\n",
      "Epoch 3/30\n",
      "118/118 [==============================] - 3s 25ms/step - loss: 0.1091 - accuracy: 0.9667 - val_loss: 0.0824 - val_accuracy: 0.9744\n",
      "Epoch 4/30\n",
      "118/118 [==============================] - 3s 25ms/step - loss: 0.0868 - accuracy: 0.9737 - val_loss: 0.0669 - val_accuracy: 0.9773\n",
      "Epoch 5/30\n",
      "118/118 [==============================] - 3s 25ms/step - loss: 0.0746 - accuracy: 0.9773 - val_loss: 0.0705 - val_accuracy: 0.9773\n",
      "Epoch 6/30\n",
      "118/118 [==============================] - 3s 24ms/step - loss: 0.0638 - accuracy: 0.9801 - val_loss: 0.0525 - val_accuracy: 0.9833\n",
      "Epoch 7/30\n",
      "118/118 [==============================] - 3s 25ms/step - loss: 0.0561 - accuracy: 0.9824 - val_loss: 0.0457 - val_accuracy: 0.9853\n",
      "Epoch 8/30\n",
      "118/118 [==============================] - 3s 25ms/step - loss: 0.0495 - accuracy: 0.9848 - val_loss: 0.0511 - val_accuracy: 0.9838\n",
      "Epoch 9/30\n",
      "118/118 [==============================] - 3s 25ms/step - loss: 0.0469 - accuracy: 0.9854 - val_loss: 0.0465 - val_accuracy: 0.9850\n",
      "Epoch 10/30\n",
      "118/118 [==============================] - 3s 24ms/step - loss: 0.0435 - accuracy: 0.9860 - val_loss: 0.0467 - val_accuracy: 0.9846\n",
      "Epoch 11/30\n",
      "118/118 [==============================] - 3s 25ms/step - loss: 0.0391 - accuracy: 0.9872 - val_loss: 0.0366 - val_accuracy: 0.9864\n",
      "Epoch 12/30\n",
      "118/118 [==============================] - 3s 25ms/step - loss: 0.0371 - accuracy: 0.9883 - val_loss: 0.0413 - val_accuracy: 0.9851\n",
      "Epoch 13/30\n",
      "118/118 [==============================] - 3s 25ms/step - loss: 0.0350 - accuracy: 0.9890 - val_loss: 0.0593 - val_accuracy: 0.9804\n",
      "Epoch 14/30\n",
      "118/118 [==============================] - 3s 25ms/step - loss: 0.0326 - accuracy: 0.9897 - val_loss: 0.0377 - val_accuracy: 0.9874\n",
      "Epoch 15/30\n",
      "118/118 [==============================] - 3s 28ms/step - loss: 0.0332 - accuracy: 0.9898 - val_loss: 0.0384 - val_accuracy: 0.9871\n",
      "Epoch 16/30\n",
      "118/118 [==============================] - 3s 25ms/step - loss: 0.0274 - accuracy: 0.9913 - val_loss: 0.0367 - val_accuracy: 0.9880\n",
      "Epoch 17/30\n",
      "118/118 [==============================] - 3s 24ms/step - loss: 0.0297 - accuracy: 0.9905 - val_loss: 0.0341 - val_accuracy: 0.9871\n",
      "Epoch 18/30\n",
      "118/118 [==============================] - 3s 24ms/step - loss: 0.0244 - accuracy: 0.9920 - val_loss: 0.0355 - val_accuracy: 0.9883\n",
      "Epoch 19/30\n",
      "118/118 [==============================] - 3s 25ms/step - loss: 0.0243 - accuracy: 0.9922 - val_loss: 0.0351 - val_accuracy: 0.9875\n",
      "Epoch 20/30\n",
      "118/118 [==============================] - 3s 25ms/step - loss: 0.0222 - accuracy: 0.9930 - val_loss: 0.0382 - val_accuracy: 0.9878\n",
      "Epoch 21/30\n",
      "118/118 [==============================] - 3s 24ms/step - loss: 0.0224 - accuracy: 0.9927 - val_loss: 0.0310 - val_accuracy: 0.9899\n",
      "Epoch 22/30\n",
      "118/118 [==============================] - 3s 25ms/step - loss: 0.0214 - accuracy: 0.9932 - val_loss: 0.0518 - val_accuracy: 0.9837\n",
      "Epoch 23/30\n",
      "118/118 [==============================] - 3s 25ms/step - loss: 0.0231 - accuracy: 0.9929 - val_loss: 0.0334 - val_accuracy: 0.9892\n",
      "Epoch 24/30\n",
      "118/118 [==============================] - 3s 25ms/step - loss: 0.0183 - accuracy: 0.9947 - val_loss: 0.0497 - val_accuracy: 0.9847\n",
      "Epoch 25/30\n",
      "118/118 [==============================] - 3s 25ms/step - loss: 0.0180 - accuracy: 0.9943 - val_loss: 0.0344 - val_accuracy: 0.9892\n",
      "Epoch 26/30\n",
      "118/118 [==============================] - 3s 25ms/step - loss: 0.0154 - accuracy: 0.9954 - val_loss: 0.0348 - val_accuracy: 0.9885\n",
      "Epoch 27/30\n",
      "118/118 [==============================] - 3s 24ms/step - loss: 0.0149 - accuracy: 0.9957 - val_loss: 0.0357 - val_accuracy: 0.9893\n",
      "Epoch 28/30\n",
      "118/118 [==============================] - 3s 24ms/step - loss: 0.0143 - accuracy: 0.9956 - val_loss: 0.0356 - val_accuracy: 0.9892\n",
      "Epoch 29/30\n",
      "118/118 [==============================] - 3s 25ms/step - loss: 0.0152 - accuracy: 0.9949 - val_loss: 0.0470 - val_accuracy: 0.9859\n",
      "Epoch 30/30\n",
      "118/118 [==============================] - 3s 25ms/step - loss: 0.0157 - accuracy: 0.9950 - val_loss: 0.0458 - val_accuracy: 0.9871\n"
     ]
    }
   ],
   "source": [
    "cnn_model.compile(optimizer=\"adam\", loss=\"sparse_categorical_crossentropy\", metrics=\"accuracy\")\n",
    "history_cnn = cnn_model.fit(x_train, y_train, batch_size=512, epochs=30, validation_data=(x_test, y_test))"
   ]
  },
  {
   "cell_type": "code",
   "execution_count": 176,
   "id": "7b78f0f7-0816-4ab5-821c-63dd19c004e9",
   "metadata": {},
   "outputs": [
    {
     "name": "stdout",
     "output_type": "stream",
     "text": [
      "Epoch 1/30\n",
      "118/118 [==============================] - 0s 2ms/step - loss: 0.8935 - accuracy: 0.7642 - val_loss: 0.4012 - val_accuracy: 0.8949\n",
      "Epoch 2/30\n",
      "118/118 [==============================] - 0s 2ms/step - loss: 0.3553 - accuracy: 0.9028 - val_loss: 0.3036 - val_accuracy: 0.9162\n",
      "Epoch 3/30\n",
      "118/118 [==============================] - 0s 2ms/step - loss: 0.2906 - accuracy: 0.9189 - val_loss: 0.2626 - val_accuracy: 0.9278\n",
      "Epoch 4/30\n",
      "118/118 [==============================] - 0s 2ms/step - loss: 0.2571 - accuracy: 0.9283 - val_loss: 0.2405 - val_accuracy: 0.9312\n",
      "Epoch 5/30\n",
      "118/118 [==============================] - 0s 2ms/step - loss: 0.2341 - accuracy: 0.9347 - val_loss: 0.2214 - val_accuracy: 0.9374\n",
      "Epoch 6/30\n",
      "118/118 [==============================] - 0s 2ms/step - loss: 0.2154 - accuracy: 0.9393 - val_loss: 0.2115 - val_accuracy: 0.9406\n",
      "Epoch 7/30\n",
      "118/118 [==============================] - 0s 2ms/step - loss: 0.2002 - accuracy: 0.9434 - val_loss: 0.2003 - val_accuracy: 0.9415\n",
      "Epoch 8/30\n",
      "118/118 [==============================] - 0s 2ms/step - loss: 0.1861 - accuracy: 0.9474 - val_loss: 0.1854 - val_accuracy: 0.9459\n",
      "Epoch 9/30\n",
      "118/118 [==============================] - 0s 2ms/step - loss: 0.1745 - accuracy: 0.9508 - val_loss: 0.1768 - val_accuracy: 0.9485\n",
      "Epoch 10/30\n",
      "118/118 [==============================] - 0s 2ms/step - loss: 0.1657 - accuracy: 0.9537 - val_loss: 0.1704 - val_accuracy: 0.9507\n",
      "Epoch 11/30\n",
      "118/118 [==============================] - 0s 2ms/step - loss: 0.1565 - accuracy: 0.9558 - val_loss: 0.1619 - val_accuracy: 0.9530\n",
      "Epoch 12/30\n",
      "118/118 [==============================] - 0s 2ms/step - loss: 0.1497 - accuracy: 0.9575 - val_loss: 0.1590 - val_accuracy: 0.9536\n",
      "Epoch 13/30\n",
      "118/118 [==============================] - 0s 2ms/step - loss: 0.1430 - accuracy: 0.9593 - val_loss: 0.1538 - val_accuracy: 0.9548\n",
      "Epoch 14/30\n",
      "118/118 [==============================] - 0s 2ms/step - loss: 0.1375 - accuracy: 0.9608 - val_loss: 0.1497 - val_accuracy: 0.9563\n",
      "Epoch 15/30\n",
      "118/118 [==============================] - 0s 2ms/step - loss: 0.1322 - accuracy: 0.9619 - val_loss: 0.1459 - val_accuracy: 0.9578\n",
      "Epoch 16/30\n",
      "118/118 [==============================] - 0s 2ms/step - loss: 0.1274 - accuracy: 0.9631 - val_loss: 0.1412 - val_accuracy: 0.9596\n",
      "Epoch 17/30\n",
      "118/118 [==============================] - 0s 2ms/step - loss: 0.1228 - accuracy: 0.9646 - val_loss: 0.1422 - val_accuracy: 0.9585\n",
      "Epoch 18/30\n",
      "118/118 [==============================] - 0s 2ms/step - loss: 0.1184 - accuracy: 0.9656 - val_loss: 0.1361 - val_accuracy: 0.9604\n",
      "Epoch 19/30\n",
      "118/118 [==============================] - 0s 2ms/step - loss: 0.1146 - accuracy: 0.9670 - val_loss: 0.1362 - val_accuracy: 0.9605\n",
      "Epoch 20/30\n",
      "118/118 [==============================] - 0s 2ms/step - loss: 0.1116 - accuracy: 0.9673 - val_loss: 0.1315 - val_accuracy: 0.9594\n",
      "Epoch 21/30\n",
      "118/118 [==============================] - 0s 2ms/step - loss: 0.1077 - accuracy: 0.9686 - val_loss: 0.1313 - val_accuracy: 0.9609\n",
      "Epoch 22/30\n",
      "118/118 [==============================] - 0s 2ms/step - loss: 0.1047 - accuracy: 0.9695 - val_loss: 0.1334 - val_accuracy: 0.9602\n",
      "Epoch 23/30\n",
      "118/118 [==============================] - 0s 2ms/step - loss: 0.1018 - accuracy: 0.9699 - val_loss: 0.1259 - val_accuracy: 0.9626\n",
      "Epoch 24/30\n",
      "118/118 [==============================] - 0s 2ms/step - loss: 0.0984 - accuracy: 0.9711 - val_loss: 0.1275 - val_accuracy: 0.9618\n",
      "Epoch 25/30\n",
      "118/118 [==============================] - 0s 2ms/step - loss: 0.0960 - accuracy: 0.9721 - val_loss: 0.1249 - val_accuracy: 0.9621\n",
      "Epoch 26/30\n",
      "118/118 [==============================] - 0s 2ms/step - loss: 0.0930 - accuracy: 0.9725 - val_loss: 0.1254 - val_accuracy: 0.9614\n",
      "Epoch 27/30\n",
      "118/118 [==============================] - 0s 2ms/step - loss: 0.0910 - accuracy: 0.9730 - val_loss: 0.1219 - val_accuracy: 0.9642\n",
      "Epoch 28/30\n",
      "118/118 [==============================] - 0s 2ms/step - loss: 0.0886 - accuracy: 0.9742 - val_loss: 0.1230 - val_accuracy: 0.9643\n",
      "Epoch 29/30\n",
      "118/118 [==============================] - 0s 2ms/step - loss: 0.0863 - accuracy: 0.9747 - val_loss: 0.1216 - val_accuracy: 0.9640\n",
      "Epoch 30/30\n",
      "118/118 [==============================] - 0s 2ms/step - loss: 0.0842 - accuracy: 0.9754 - val_loss: 0.1205 - val_accuracy: 0.9640\n"
     ]
    }
   ],
   "source": [
    "mlp_model.compile(optimizer=\"adam\", loss=\"sparse_categorical_crossentropy\", metrics=\"accuracy\")\n",
    "history_mlp = mlp_model.fit(x_train, y_train, batch_size=512, epochs=30, validation_data=(x_test, y_test))"
   ]
  },
  {
   "cell_type": "code",
   "execution_count": 177,
   "id": "d64fba48-0160-4cd3-a867-5ee086b859ac",
   "metadata": {},
   "outputs": [],
   "source": [
    "def show_imgs(img_arr):\n",
    "    fig = plt.figure(figsize=(10, 2))\n",
    "    for ind, img in enumerate(img_arr):\n",
    "        reshaped = img.reshape(image_size, image_size)\n",
    "        fig.add_subplot(1, len(img_arr), ind+1)\n",
    "        plt.axis('off')\n",
    "        plt.imshow(reshaped, cmap=\"Greys_r\")"
   ]
  },
  {
   "cell_type": "code",
   "execution_count": 217,
   "id": "cfa74b62-011a-4274-9787-79b9d2c65695",
   "metadata": {},
   "outputs": [],
   "source": [
    "def shift_imgs(images, x, y):\n",
    "    res = images # (batch, rows, cols)\n",
    "    res = np.roll(res, y, axis = 1)\n",
    "    res = np.roll(res, x, axis = 2)\n",
    "    if y < 0:\n",
    "        res[:, y:, :] = 0.0\n",
    "    elif y > 0:\n",
    "        res[:, :y, :] = 0.0\n",
    "    if x < 0:\n",
    "        res[:, :, x:] = 0.0\n",
    "    elif x > 0:\n",
    "        res[:, :, :x] = 0.0\n",
    "    return res"
   ]
  },
  {
   "cell_type": "code",
   "execution_count": null,
   "id": "c6160a3a-8e72-41f3-964a-fdb5923faed8",
   "metadata": {},
   "outputs": [],
   "source": [
    "def random_shifts(arr, shift_fn):\n",
    "    result = np.copy(arr)\n",
    "    discr = np.rint(np.random.rand(result.shape[0]) * 12 - 6).astype(int)\n",
    "    for v in np.unique(discr):\n",
    "        result[discr == v] = shift_fn(result[discr == v], v)\n",
    "    return result"
   ]
  },
  {
   "cell_type": "code",
   "execution_count": 255,
   "id": "0a804322-8643-4a44-bc9d-654843659995",
   "metadata": {},
   "outputs": [],
   "source": [
    "x_train_random_shift = x_train\n",
    "x_train_random_shift = random_shifts(x_train_random_shift, lambda x, s: shift_imgs(x, s, 0))\n",
    "x_train_random_shift = random_shifts(x_train_random_shift, lambda x, s: shift_imgs(x, 0, s))"
   ]
  },
  {
   "cell_type": "code",
   "execution_count": 256,
   "id": "6838732d-2da4-4714-b0dd-cba660fd2d8e",
   "metadata": {},
   "outputs": [
    {
     "data": {
      "image/png": "[encoded data removed]",
      "text/plain": [
       "<Figure size 1000x200 with 10 Axes>"
      ]
     },
     "metadata": {},
     "output_type": "display_data"
    },
    {
     "data": {
      "image/png": "[encoded data removed]",
      "text/plain": [
       "<Figure size 1000x200 with 10 Axes>"
      ]
     },
     "metadata": {},
     "output_type": "display_data"
    }
   ],
   "source": [
    "show_imgs(x_train[:10])\n",
    "show_imgs(x_train_random_shift[:10])"
   ]
  },
  {
   "cell_type": "code",
   "execution_count": 263,
   "id": "8dddd39a-1454-4ec4-84c8-6b21416c27f5",
   "metadata": {},
   "outputs": [
    {
     "name": "stdout",
     "output_type": "stream",
     "text": [
      "Epoch 1/30\n",
      "118/118 [==============================] - 0s 2ms/step - loss: 1.9023 - accuracy: 0.3641 - val_loss: 1.4500 - val_accuracy: 0.5851\n",
      "Epoch 2/30\n",
      "118/118 [==============================] - 0s 1ms/step - loss: 1.3433 - accuracy: 0.5904 - val_loss: 1.0807 - val_accuracy: 0.6964\n",
      "Epoch 3/30\n",
      "118/118 [==============================] - 0s 1ms/step - loss: 1.0530 - accuracy: 0.6811 - val_loss: 0.8746 - val_accuracy: 0.7515\n",
      "Epoch 4/30\n",
      "118/118 [==============================] - 0s 2ms/step - loss: 0.8917 - accuracy: 0.7320 - val_loss: 0.7539 - val_accuracy: 0.7929\n",
      "Epoch 5/30\n",
      "118/118 [==============================] - 0s 4ms/step - loss: 0.7867 - accuracy: 0.7659 - val_loss: 0.6691 - val_accuracy: 0.8095\n",
      "Epoch 6/30\n",
      "118/118 [==============================] - 0s 2ms/step - loss: 0.7110 - accuracy: 0.7910 - val_loss: 0.6096 - val_accuracy: 0.8237\n",
      "Epoch 7/30\n",
      "118/118 [==============================] - 0s 2ms/step - loss: 0.6543 - accuracy: 0.8080 - val_loss: 0.5550 - val_accuracy: 0.8416\n",
      "Epoch 8/30\n",
      "118/118 [==============================] - 0s 2ms/step - loss: 0.6105 - accuracy: 0.8215 - val_loss: 0.5359 - val_accuracy: 0.8444\n",
      "Epoch 9/30\n",
      "118/118 [==============================] - 0s 1ms/step - loss: 0.5771 - accuracy: 0.8308 - val_loss: 0.5071 - val_accuracy: 0.8530\n",
      "Epoch 10/30\n",
      "118/118 [==============================] - 0s 2ms/step - loss: 0.5496 - accuracy: 0.8381 - val_loss: 0.4882 - val_accuracy: 0.8588\n",
      "Epoch 11/30\n",
      "118/118 [==============================] - 0s 2ms/step - loss: 0.5265 - accuracy: 0.8455 - val_loss: 0.4837 - val_accuracy: 0.8570\n",
      "Epoch 12/30\n",
      "118/118 [==============================] - 0s 1ms/step - loss: 0.5073 - accuracy: 0.8523 - val_loss: 0.4608 - val_accuracy: 0.8672\n",
      "Epoch 13/30\n",
      "118/118 [==============================] - 0s 2ms/step - loss: 0.4908 - accuracy: 0.8555 - val_loss: 0.4487 - val_accuracy: 0.8693\n",
      "Epoch 14/30\n",
      "118/118 [==============================] - 0s 2ms/step - loss: 0.4758 - accuracy: 0.8599 - val_loss: 0.4561 - val_accuracy: 0.8636\n",
      "Epoch 15/30\n",
      "118/118 [==============================] - 0s 2ms/step - loss: 0.4629 - accuracy: 0.8636 - val_loss: 0.4411 - val_accuracy: 0.8684\n",
      "Epoch 16/30\n",
      "118/118 [==============================] - 0s 1ms/step - loss: 0.4510 - accuracy: 0.8680 - val_loss: 0.4333 - val_accuracy: 0.8743\n",
      "Epoch 17/30\n",
      "118/118 [==============================] - 0s 2ms/step - loss: 0.4403 - accuracy: 0.8720 - val_loss: 0.4250 - val_accuracy: 0.8772\n",
      "Epoch 18/30\n",
      "118/118 [==============================] - 0s 2ms/step - loss: 0.4304 - accuracy: 0.8735 - val_loss: 0.4186 - val_accuracy: 0.8767\n",
      "Epoch 19/30\n",
      "118/118 [==============================] - 0s 1ms/step - loss: 0.4206 - accuracy: 0.8775 - val_loss: 0.4077 - val_accuracy: 0.8791\n",
      "Epoch 20/30\n",
      "118/118 [==============================] - 0s 1ms/step - loss: 0.4137 - accuracy: 0.8793 - val_loss: 0.4091 - val_accuracy: 0.8807\n",
      "Epoch 21/30\n",
      "118/118 [==============================] - 0s 1ms/step - loss: 0.4054 - accuracy: 0.8819 - val_loss: 0.3995 - val_accuracy: 0.8820\n",
      "Epoch 22/30\n",
      "118/118 [==============================] - 0s 1ms/step - loss: 0.3989 - accuracy: 0.8841 - val_loss: 0.4096 - val_accuracy: 0.8794\n",
      "Epoch 23/30\n",
      "118/118 [==============================] - 0s 1ms/step - loss: 0.3923 - accuracy: 0.8870 - val_loss: 0.3940 - val_accuracy: 0.8855\n",
      "Epoch 24/30\n",
      "118/118 [==============================] - 0s 2ms/step - loss: 0.3868 - accuracy: 0.8874 - val_loss: 0.3984 - val_accuracy: 0.8840\n",
      "Epoch 25/30\n",
      "118/118 [==============================] - 0s 1ms/step - loss: 0.3817 - accuracy: 0.8891 - val_loss: 0.4113 - val_accuracy: 0.8787\n",
      "Epoch 26/30\n",
      "118/118 [==============================] - 0s 1ms/step - loss: 0.3764 - accuracy: 0.8911 - val_loss: 0.3993 - val_accuracy: 0.8793\n",
      "Epoch 27/30\n",
      "118/118 [==============================] - 0s 2ms/step - loss: 0.3712 - accuracy: 0.8922 - val_loss: 0.3860 - val_accuracy: 0.8853\n",
      "Epoch 28/30\n",
      "118/118 [==============================] - 0s 2ms/step - loss: 0.3668 - accuracy: 0.8943 - val_loss: 0.3889 - val_accuracy: 0.8837\n",
      "Epoch 29/30\n",
      "118/118 [==============================] - 0s 2ms/step - loss: 0.3621 - accuracy: 0.8961 - val_loss: 0.3972 - val_accuracy: 0.8809\n",
      "Epoch 30/30\n",
      "118/118 [==============================] - 0s 2ms/step - loss: 0.3578 - accuracy: 0.8964 - val_loss: 0.3885 - val_accuracy: 0.8844\n"
     ]
    }
   ],
   "source": [
    "mlp_model_augmented = create_mlp_model()\n",
    "mlp_model_augmented.compile(optimizer=\"adam\", loss=\"sparse_categorical_crossentropy\", metrics=\"accuracy\")\n",
    "history_mlp_augmented = mlp_model_augmented.fit(x_train_random_shift, y_train, batch_size=512, epochs=30, validation_data=(x_test, y_test))"
   ]
  },
  {
   "cell_type": "code",
   "execution_count": 257,
   "id": "d11573ad-a771-437c-9453-a0eaf2be6c74",
   "metadata": {},
   "outputs": [
    {
     "name": "stdout",
     "output_type": "stream",
     "text": [
      "Epoch 1/30\n",
      "118/118 [==============================] - 4s 27ms/step - loss: 1.1588 - accuracy: 0.6333 - val_loss: 0.3851 - val_accuracy: 0.8842\n",
      "Epoch 2/30\n",
      "118/118 [==============================] - 3s 25ms/step - loss: 0.3825 - accuracy: 0.8840 - val_loss: 0.2390 - val_accuracy: 0.9282\n",
      "Epoch 3/30\n",
      "118/118 [==============================] - 3s 26ms/step - loss: 0.2787 - accuracy: 0.9149 - val_loss: 0.1827 - val_accuracy: 0.9443\n",
      "Epoch 4/30\n",
      "118/118 [==============================] - 3s 25ms/step - loss: 0.2217 - accuracy: 0.9328 - val_loss: 0.1583 - val_accuracy: 0.9491\n",
      "Epoch 5/30\n",
      "118/118 [==============================] - 3s 25ms/step - loss: 0.1886 - accuracy: 0.9418 - val_loss: 0.1478 - val_accuracy: 0.9549\n",
      "Epoch 6/30\n",
      "118/118 [==============================] - 3s 25ms/step - loss: 0.1677 - accuracy: 0.9490 - val_loss: 0.1221 - val_accuracy: 0.9612\n",
      "Epoch 7/30\n",
      "118/118 [==============================] - 3s 25ms/step - loss: 0.1478 - accuracy: 0.9540 - val_loss: 0.1127 - val_accuracy: 0.9634\n",
      "Epoch 8/30\n",
      "118/118 [==============================] - 3s 25ms/step - loss: 0.1331 - accuracy: 0.9584 - val_loss: 0.1011 - val_accuracy: 0.9688\n",
      "Epoch 9/30\n",
      "118/118 [==============================] - 4s 38ms/step - loss: 0.1251 - accuracy: 0.9610 - val_loss: 0.1154 - val_accuracy: 0.9627\n",
      "Epoch 10/30\n",
      "118/118 [==============================] - 3s 26ms/step - loss: 0.1182 - accuracy: 0.9635 - val_loss: 0.0901 - val_accuracy: 0.9705\n",
      "Epoch 11/30\n",
      "118/118 [==============================] - 3s 26ms/step - loss: 0.1062 - accuracy: 0.9669 - val_loss: 0.0866 - val_accuracy: 0.9717\n",
      "Epoch 12/30\n",
      "118/118 [==============================] - 3s 25ms/step - loss: 0.0989 - accuracy: 0.9693 - val_loss: 0.0779 - val_accuracy: 0.9760\n",
      "Epoch 13/30\n",
      "118/118 [==============================] - 3s 25ms/step - loss: 0.0909 - accuracy: 0.9713 - val_loss: 0.0707 - val_accuracy: 0.9773\n",
      "Epoch 14/30\n",
      "118/118 [==============================] - 3s 25ms/step - loss: 0.0831 - accuracy: 0.9742 - val_loss: 0.0754 - val_accuracy: 0.9768\n",
      "Epoch 15/30\n",
      "118/118 [==============================] - 3s 25ms/step - loss: 0.0814 - accuracy: 0.9747 - val_loss: 0.0784 - val_accuracy: 0.9741\n",
      "Epoch 16/30\n",
      "118/118 [==============================] - 3s 25ms/step - loss: 0.0754 - accuracy: 0.9766 - val_loss: 0.0755 - val_accuracy: 0.9756\n",
      "Epoch 17/30\n",
      "118/118 [==============================] - 3s 25ms/step - loss: 0.0707 - accuracy: 0.9777 - val_loss: 0.0687 - val_accuracy: 0.9790\n",
      "Epoch 18/30\n",
      "118/118 [==============================] - 3s 25ms/step - loss: 0.0691 - accuracy: 0.9788 - val_loss: 0.0708 - val_accuracy: 0.9769\n",
      "Epoch 19/30\n",
      "118/118 [==============================] - 3s 25ms/step - loss: 0.0608 - accuracy: 0.9814 - val_loss: 0.0597 - val_accuracy: 0.9816\n",
      "Epoch 20/30\n",
      "118/118 [==============================] - 3s 25ms/step - loss: 0.0615 - accuracy: 0.9807 - val_loss: 0.0635 - val_accuracy: 0.9799\n",
      "Epoch 21/30\n",
      "118/118 [==============================] - 3s 25ms/step - loss: 0.0576 - accuracy: 0.9822 - val_loss: 0.0619 - val_accuracy: 0.9801\n",
      "Epoch 22/30\n",
      "118/118 [==============================] - 3s 25ms/step - loss: 0.0535 - accuracy: 0.9830 - val_loss: 0.0612 - val_accuracy: 0.9814\n",
      "Epoch 23/30\n",
      "118/118 [==============================] - 3s 25ms/step - loss: 0.0530 - accuracy: 0.9830 - val_loss: 0.0645 - val_accuracy: 0.9792\n",
      "Epoch 24/30\n",
      "118/118 [==============================] - 3s 25ms/step - loss: 0.0475 - accuracy: 0.9853 - val_loss: 0.0705 - val_accuracy: 0.9782\n",
      "Epoch 25/30\n",
      "118/118 [==============================] - 3s 25ms/step - loss: 0.0461 - accuracy: 0.9852 - val_loss: 0.0686 - val_accuracy: 0.9792\n",
      "Epoch 26/30\n",
      "118/118 [==============================] - 3s 26ms/step - loss: 0.0433 - accuracy: 0.9866 - val_loss: 0.0646 - val_accuracy: 0.9811\n",
      "Epoch 27/30\n",
      "118/118 [==============================] - 3s 26ms/step - loss: 0.0431 - accuracy: 0.9866 - val_loss: 0.0604 - val_accuracy: 0.9814\n",
      "Epoch 28/30\n",
      "118/118 [==============================] - 3s 25ms/step - loss: 0.0392 - accuracy: 0.9877 - val_loss: 0.0573 - val_accuracy: 0.9818\n",
      "Epoch 29/30\n",
      "118/118 [==============================] - 4s 31ms/step - loss: 0.0400 - accuracy: 0.9871 - val_loss: 0.0665 - val_accuracy: 0.9804\n",
      "Epoch 30/30\n",
      "118/118 [==============================] - 3s 26ms/step - loss: 0.0359 - accuracy: 0.9889 - val_loss: 0.0688 - val_accuracy: 0.9806\n"
     ]
    }
   ],
   "source": [
    "cnn_model_augmented = create_cnn_model()\n",
    "cnn_model_augmented.compile(optimizer=\"adam\", loss=\"sparse_categorical_crossentropy\", metrics=\"accuracy\")\n",
    "history_cnn_augmented = cnn_model_augmented.fit(x_train_random_shift, y_train, batch_size=512, epochs=30, validation_data=(x_test, y_test))"
   ]
  },
  {
   "cell_type": "markdown",
   "id": "78e78bc9-8b77-4c78-9bb1-b77c2e10c78e",
   "metadata": {},
   "source": [
    "## Performance on shifted test set\n",
    "Let's check how our models perform on test set (which they haven't been trained on) which was shifted.\n",
    "\n",
    "Starting with some small constant shift on both axes..."
   ]
  },
  {
   "cell_type": "code",
   "execution_count": 264,
   "id": "b99204af-71c1-4523-8463-5ca4e39d3ccf",
   "metadata": {},
   "outputs": [
    {
     "name": "stdout",
     "output_type": "stream",
     "text": [
      "MLP accuracy with shifted images: 0.1688999980688095\n",
      "MLP (aug) accuracy with shifted images: 0.8906000256538391\n",
      "CNN accuracy with shifted images: 0.6712999939918518\n",
      "CNN (aug) accuracy with shifted images: 0.9807999730110168\n"
     ]
    }
   ],
   "source": [
    "print(f'MLP accuracy with shifted images: {mlp_model.evaluate(shift_imgs(x_test, 3, 3), y_test, verbose=0)[1]}')\n",
    "print(f'MLP (aug) accuracy with shifted images: {mlp_model_augmented.evaluate(shift_imgs(x_test, 3, 3), y_test, verbose=0)[1]}')\n",
    "print(f'CNN accuracy with shifted images: {cnn_model.evaluate(shift_imgs(x_test, 3, 3), y_test, verbose=0)[1]}')\n",
    "print(f'CNN (aug) accuracy with shifted images: {cnn_model_augmented.evaluate(shift_imgs(x_test, 3, 3), y_test, verbose=0)[1]}')"
   ]
  },
  {
   "cell_type": "markdown",
   "id": "a262721d-c640-48fc-b104-434a985ff051",
   "metadata": {},
   "source": [
    "Ouch! While huge drop for MLP was expected, non-augmented CNN failed as well!\n",
    "\n",
    "Also note, how augmented version of both MLP and CNN sustain decent accuracy.\n",
    "\n",
    "Let's explore more details here."
   ]
  },
  {
   "cell_type": "code",
   "execution_count": 265,
   "id": "0188e65b-2843-465f-818c-8830253858a6",
   "metadata": {},
   "outputs": [],
   "source": [
    "mlp_horiz_acc = []\n",
    "mlp_aug_horiz_acc = []\n",
    "cnn_horiz_acc = []\n",
    "cnn_aug_horiz_acc = []\n",
    "for shift_horiz in range(0, 6):\n",
    "    mlp_horiz_acc.append(mlp_model.evaluate(shift_imgs(x_test, shift_horiz, 0), y_test, verbose=0)[1])\n",
    "    mlp_aug_horiz_acc.append(mlp_model_augmented.evaluate(shift_imgs(x_test, shift_horiz, 0), y_test, verbose=0)[1])\n",
    "    cnn_horiz_acc.append(cnn_model.evaluate(shift_imgs(x_test, shift_horiz, 0), y_test, verbose=0)[1])\n",
    "    cnn_aug_horiz_acc.append(cnn_model_augmented.evaluate(shift_imgs(x_test, shift_horiz, 0), y_test, verbose=0)[1])\n",
    "\n",
    "mlp_vert_acc = []\n",
    "mlp_aug_vert_acc = []\n",
    "cnn_vert_acc = []\n",
    "cnn_aug_vert_acc = []\n",
    "for shift_vert in range(0, 6):\n",
    "    mlp_vert_acc.append(mlp_model.evaluate(shift_imgs(x_test, 0, shift_vert), y_test, verbose=0)[1])\n",
    "    mlp_aug_vert_acc.append(mlp_model_augmented.evaluate(shift_imgs(x_test, 0, shift_vert), y_test, verbose=0)[1])\n",
    "    cnn_vert_acc.append(cnn_model.evaluate(shift_imgs(x_test, 0, shift_vert), y_test, verbose=0)[1])\n",
    "    cnn_aug_vert_acc.append(cnn_model_augmented.evaluate(shift_imgs(x_test, 0, shift_vert), y_test, verbose=0)[1])"
   ]
  },
  {
   "cell_type": "code",
   "execution_count": 267,
   "id": "24b9ef07-3d2e-4b77-a8b0-58bb94d7a7bd",
   "metadata": {},
   "outputs": [
    {
     "name": "stdout",
     "output_type": "stream",
     "text": [
      "Accuracy when shifting:\n",
      "0 pixels: MLP horiz 0.964 vert 0.964, MLP (aug) horiz 0.884 vert 0.884, CNN horiz 0.987 vert 0.987, CNN (aug) horiz 0.981 vert 0.981\n",
      "1 pixels: MLP horiz 0.930 vert 0.919, MLP (aug) horiz 0.882 vert 0.889, CNN horiz 0.982 vert 0.980, CNN (aug) horiz 0.980 vert 0.981\n",
      "2 pixels: MLP horiz 0.752 vert 0.693, MLP (aug) horiz 0.888 vert 0.888, CNN horiz 0.967 vert 0.952, CNN (aug) horiz 0.979 vert 0.978\n",
      "3 pixels: MLP horiz 0.479 vert 0.350, MLP (aug) horiz 0.892 vert 0.888, CNN horiz 0.927 vert 0.869, CNN (aug) horiz 0.977 vert 0.977\n",
      "4 pixels: MLP horiz 0.324 vert 0.127, MLP (aug) horiz 0.884 vert 0.892, CNN horiz 0.839 vert 0.734, CNN (aug) horiz 0.978 vert 0.977\n",
      "5 pixels: MLP horiz 0.220 vert 0.062, MLP (aug) horiz 0.863 vert 0.871, CNN horiz 0.696 vert 0.561, CNN (aug) horiz 0.978 vert 0.974\n"
     ]
    }
   ],
   "source": [
    "print('Accuracy when shifting:')\n",
    "for shift in range(0, len(cnn_horiz_acc)):\n",
    "    print(f'{shift} pixels: MLP horiz {mlp_horiz_acc[shift]:.3f} vert {mlp_vert_acc[shift]:.3f}, ' + \\\n",
    "          f'MLP (aug) horiz {mlp_aug_horiz_acc[shift]:.3f} vert {mlp_aug_vert_acc[shift]:.3f}, ' + \\\n",
    "         f'CNN horiz {cnn_horiz_acc[shift]:.3f} vert {cnn_vert_acc[shift]:.3f}, ' + \\\n",
    "         f'CNN (aug) horiz {cnn_aug_horiz_acc[shift]:.3f} vert {cnn_aug_vert_acc[shift]:.3f}')"
   ]
  },
  {
   "cell_type": "code",
   "execution_count": 268,
   "id": "71612094-0a1b-4083-876d-ec9b19d8723b",
   "metadata": {},
   "outputs": [
    {
     "data": {
      "text/plain": [
       "<matplotlib.legend.Legend at 0x15d6e8c10>"
      ]
     },
     "execution_count": 268,
     "metadata": {},
     "output_type": "execute_result"
    },
    {
     "data": {
      "image/png": "[encoded data removed]",
      "text/plain": [
       "<Figure size 640x480 with 1 Axes>"
      ]
     },
     "metadata": {},
     "output_type": "display_data"
    }
   ],
   "source": [
    "plt.plot(mlp_horiz_acc, label='MLP horiz')\n",
    "plt.plot(mlp_vert_acc, label='MLP vert')\n",
    "plt.plot(mlp_aug_horiz_acc, label='MLP (aug) horiz')\n",
    "plt.plot(mlp_aug_vert_acc, label='MLP (aug) vert')\n",
    "plt.plot(cnn_horiz_acc, label='CNN horiz')\n",
    "plt.plot(cnn_vert_acc, label='CNN vert')\n",
    "plt.plot(cnn_aug_horiz_acc, label='CNN (aug) horiz')\n",
    "plt.plot(cnn_aug_vert_acc, label='CNN (aug) vert')\n",
    "plt.legend()"
   ]
  },
  {
   "cell_type": "markdown",
   "id": "ef61a2f6-bd86-4569-a046-f49078f7bcb8",
   "metadata": {},
   "source": [
    "# Conclusion\n",
    "\n",
    "Vanilla CNN implementation with max-pooling is not shift-invariant. When trained on non-shifted dataset, it totally fails to generalize to image shifts when classifying digits. Even minimal shift of 1 pixel results in noticeable drop in accuracy. And with larger shifts accuracy becomes unacceptable.\n",
    "\n",
    "At the same time, when trained on shifted dataset, CNN performs very well on shifted test set, losing very little accuracy. This proves, that shifts are not fundamental issue for CNN, it is capable of handling them, but only when explicitly learning such patterns from training set. We should not expect CNN to perform well on shifted images by default.\n",
    "\n",
    "In this regard, CNN is not that different from regular MLP. When specifically trained on shifted train set, MLP is robust to shifts in new data. When not trained specifically for such patterns, its accuracy quickly drops even with small shifts.\n",
    "\n",
    "Thus, the advantage of CNNs over MLP is not automatic shift robustness. But rather the ability to generalize well when observing different locations of same pattern in train data. You can see it by performance of augmented MLP and CNN on non-shifted test set. In order to learn different shifts in train data, both augmented MLP and augmented CNN had to sacrifice their performance on non-shifted data. But the amount of the drop is so different! MLP: 0.964 -> 0.884, CNN: 0.987 -> 0.981. Remember, they have approximately similar amount of parameters, but CNN is so much more effective at learning all these shifted patterns.\n",
    "\n",
    "To be fair, non-augmented CNN is indeed more robust to shifts than non-augmented MLP. But the actual accuracies of them are so low, that this observation lacks any practical value. And this kind of performance is far from being considered \"shift-invariant\" or \"translation insensitive\".\n",
    "\n",
    "Additional observation is that vertical shift is more harmful than horizontal for both non-augmented CNN and non-augmented MLP.\n",
    "\n",
    "One final note on the terminology and claims. It seems that there can be confusion about \"shift-invariance\" term. While this notebook shows that CNN as a model is not \"shift-invariant\", the claim that a single convolution layer is shift-invariant is still true. In this case it has another meaning: the shift in layer's input is preserved in layer's output."
   ]
  },
  {
   "cell_type": "code",
   "execution_count": null,
   "id": "60d44fee-cd66-46f8-aaba-6e92698bbc9f",
   "metadata": {},
   "outputs": [],
   "source": []
  }
 ],
 "metadata": {
  "kernelspec": {
   "display_name": "Python 3 (ipykernel)",
   "language": "python",
   "name": "python3"
  },
  "language_info": {
   "codemirror_mode": {
    "name": "ipython",
    "version": 3
   },
   "file_extension": ".py",
   "mimetype": "text/x-python",
   "name": "python",
   "nbconvert_exporter": "python",
   "pygments_lexer": "ipython3",
   "version": "3.11.6"
  }
 },
 "nbformat": 4,
 "nbformat_minor": 5
}
