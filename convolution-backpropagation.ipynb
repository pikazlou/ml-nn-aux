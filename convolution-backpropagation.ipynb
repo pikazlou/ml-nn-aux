{
 "cells": [
  {
   "cell_type": "markdown",
   "id": "fddd8777",
   "metadata": {},
   "source": [
    "## Motivation\n",
    "CNNs are used a lot, but the calculations behind them are more complex than for simple dense-connected networks. Especially when we talk about backpropagation. In this document I want to provide simple explanation and visualization for backward propagation in convolution layers."
   ]
  },
  {
   "cell_type": "markdown",
   "id": "55f40072",
   "metadata": {},
   "source": [
    "## Calculations and explanation\n",
    "**TL;DR: note that you can skip this section and go directly to the results section, where you can find simple representation of derivatives**\n",
    "\n",
    "Let's use a simplified example of convolution. Note, that it is not a mathematical convolution but rather correlation. But unfortunately in NN world this misnaming is adopted, so we will stick with NN terminology and logic. \n",
    "\n",
    "Imagine we have a very simple convolution layer. Here `*` denotes convolution instead of dot or multiplication."
   ]
  },
  {
   "cell_type": "markdown",
   "id": "07fed230",
   "metadata": {},
   "source": [
    "$$\n",
    "X * W + b = Y\\\\\n",
    "\\begin{vmatrix}\n",
    "x_{11} & x_{12} & x_{13}\\\\\n",
    "x_{21} & x_{22} & x_{23}\\\\\n",
    "x_{31} & x_{32} & x_{33}\n",
    "\\end{vmatrix}\n",
    "*\n",
    "\\begin{vmatrix}\n",
    "w_{11} & w_{12}\\\\\n",
    "w_{21} & w_{22}\n",
    "\\end{vmatrix}\n",
    "+b\n",
    "=\n",
    "\\begin{vmatrix}\n",
    "y_{11} & y_{12}\\\\\n",
    "y_{21} & y_{22}\n",
    "\\end{vmatrix}\n",
    "$$"
   ]
  },
  {
   "cell_type": "markdown",
   "id": "43718ab3",
   "metadata": {},
   "source": [
    "where $X$ represent input to the layer, $F$ is convolution filter, $b$ is scalar bias, $Y$ is layer's output."
   ]
  },
  {
   "cell_type": "markdown",
   "id": "d03886d6",
   "metadata": {},
   "source": [
    "It means the formulas for a specific elements of Y would be:\n",
    "$$\n",
    "y_{11} = x_{11}w_{11} + x_{12}w_{12} + x_{21}w_{21} + x_{22}w_{22} + b\\\\\n",
    "y_{12} = x_{12}w_{11} + x_{13}w_{12} + x_{22}w_{21} + x_{23}w_{22} + b\\\\\n",
    "...\n",
    "$$"
   ]
  },
  {
   "cell_type": "markdown",
   "id": "a0ddaa21",
   "metadata": {},
   "source": [
    "Now, imagine we have a loss function $L$ for the network, where our layer is used. And thanks to the backpropagation calculated at further layers we now know the derivative of $L$ with respect to $O$:\n",
    "$$\n",
    "\\frac{\\partial L}{\\partial Y} = \\begin{vmatrix}\n",
    "\\frac{\\partial L}{\\partial y_{11}} & \\frac{\\partial L}{\\partial y_{12}}\\\\\n",
    "\\frac{\\partial L}{\\partial y_{21}} & \\frac{\\partial L}{\\partial y_{22}}\n",
    "\\end{vmatrix}\n",
    "$$"
   ]
  },
  {
   "cell_type": "markdown",
   "id": "d985ee90",
   "metadata": {},
   "source": [
    "We want to calculate the derivative of $L$ with respect to $X$, $F$ and $b$:\n",
    "\n",
    "$$\n",
    "\\frac{\\partial L}{\\partial X} = \\begin{vmatrix}\n",
    "\\frac{\\partial L}{\\partial x_{11}} & \\frac{\\partial L}{\\partial x_{12}} & \\frac{\\partial L}{\\partial x_{13}}\\\\\n",
    "\\frac{\\partial L}{\\partial x_{21}} & \\frac{\\partial L}{\\partial x_{22}} & \\frac{\\partial L}{\\partial x_{23}}\\\\\n",
    "\\frac{\\partial L}{\\partial x_{31}} & \\frac{\\partial L}{\\partial x_{32}} & \\frac{\\partial L}{\\partial x_{33}}\n",
    "\\end{vmatrix}\n",
    "\\\\\n",
    "\\frac{\\partial L}{\\partial W} = \\begin{vmatrix}\n",
    "\\frac{\\partial L}{\\partial w_{11}} & \\frac{\\partial L}{\\partial w_{12}}\\\\\n",
    "\\frac{\\partial L}{\\partial w_{21}} & \\frac{\\partial L}{\\partial w_{22}}\n",
    "\\end{vmatrix}\n",
    "\\\\\n",
    "\\frac{\\partial L}{\\partial b}\n",
    "$$"
   ]
  },
  {
   "cell_type": "markdown",
   "id": "4abc65d4",
   "metadata": {},
   "source": [
    "For now we don't really need matrix representation, and we can actually write loss function as function of scalar parameters:\n",
    "\n",
    "$$\n",
    "L = L(y_{11}, y_{12}, y_{21}, y_{22})\n",
    "$$"
   ]
  },
  {
   "cell_type": "markdown",
   "id": "0e3f5fbb",
   "metadata": {},
   "source": [
    "Now you can remember the formulas for $y_{ij}$ and realize $y_{ij}$ are functions on their own over X, W and b:\n",
    "\n",
    "$$\n",
    "y_{11} = y_{11}(x_{11}, x_{12}, ..., w_{11}, w_{12}, ..., b)\\\\\n",
    "y_{12} = y_{12}(x_{11}, x_{12}, ..., w_{11}, w_{12}, ..., b)\\\\\n",
    "...\n",
    "$$"
   ]
  },
  {
   "cell_type": "markdown",
   "id": "deec38da",
   "metadata": {},
   "source": [
    "(even though $y_{12}$ doesn't depend on $x_{11}$, it is simpler to represent $y_{ij}$ as functions of same list of parameters for now)"
   ]
  },
  {
   "cell_type": "markdown",
   "id": "42760799",
   "metadata": {},
   "source": [
    "Thanks to calculus we know that if we have function composition:\n",
    "\n",
    "$$\n",
    "h(f(s, t), g(s, t))\n",
    "$$"
   ]
  },
  {
   "cell_type": "markdown",
   "id": "312ba036",
   "metadata": {},
   "source": [
    "then derivative of $h$ with respect to $s$ and $t$ are calculated as:\n",
    "\n",
    "$$\n",
    "\\frac{\\partial h}{\\partial s} = \\frac{\\partial h}{\\partial f} \\frac{\\partial f}{\\partial s} + \\frac{\\partial h}{\\partial g} \\frac{\\partial g}{\\partial s}\\\\\n",
    "\\frac{\\partial h}{\\partial t} = \\frac{\\partial h}{\\partial f} \\frac{\\partial f}{\\partial t} + \\frac{\\partial h}{\\partial g} \\frac{\\partial g}{\\partial t}\n",
    "$$"
   ]
  },
  {
   "cell_type": "markdown",
   "id": "6855d97e",
   "metadata": {},
   "source": [
    "It means we can break down formulas for $\\frac{\\partial L}{\\partial X}$, $\\frac{\\partial L}{\\partial W}$ and $\\frac{\\partial L}{\\partial b}$:\n",
    "\n",
    "$$\n",
    "\\frac{\\partial L}{\\color{red}{\\partial x_{11}}} = \\frac{\\partial L}{\\partial y_{11}}\\frac{\\partial y_{11}}{\\color{red}{\\partial x_{11}}} + \\frac{\\partial L}{\\partial y_{12}}\\frac{\\partial y_{12}}{\\color{red}{\\partial x_{11}}} + \\frac{\\partial L}{\\partial y_{21}}\\frac{\\partial y_{21}}{\\color{red}{\\partial x_{11}}} + \\frac{\\partial L}{\\partial y_{22}}\\frac{\\partial y_{22}}{\\color{red}{\\partial x_{11}}}\\\\\n",
    "\\frac{\\partial L}{\\color{red}{\\partial x_{12}}} = \\frac{\\partial L}{\\partial y_{11}}\\frac{\\partial y_{11}}{\\color{red}{\\partial x_{12}}} + \\frac{\\partial L}{\\partial y_{12}}\\frac{\\partial y_{12}}{\\color{red}{\\partial x_{12}}} + \\frac{\\partial L}{\\partial y_{21}}\\frac{\\partial y_{21}}{\\color{red}{\\partial x_{12}}} + \\frac{\\partial L}{\\partial y_{22}}\\frac{\\partial y_{22}}{\\color{red}{\\partial x_{12}}}\\\\\n",
    "...\\\\\n",
    "...\\\\\n",
    "\\\\\n",
    "\\frac{\\partial L}{\\color{red}{\\partial w_{11}}} = \\frac{\\partial L}{\\partial y_{11}}\\frac{\\partial y_{11}}{\\color{red}{\\partial w_{11}}} + \\frac{\\partial L}{\\partial y_{12}}\\frac{\\partial y_{12}}{\\color{red}{\\partial w_{11}}} + \\frac{\\partial L}{\\partial y_{21}}\\frac{\\partial y_{21}}{\\color{red}{\\partial w_{11}}} + \\frac{\\partial L}{\\partial y_{22}}\\frac{\\partial y_{22}}{\\color{red}{\\partial w_{11}}}\\\\\n",
    "...\\\\\n",
    "...\\\\\n",
    "\\frac{\\partial L}{\\color{red}{\\partial b}} = \\frac{\\partial L}{\\partial y_{11}}\\frac{\\partial y_{11}}{\\color{red}{\\partial b}} + \\frac{\\partial L}{\\partial y_{12}}\\frac{\\partial y_{12}}{\\color{red}{\\partial b}} + \\frac{\\partial L}{\\partial y_{21}}\\frac{\\partial y_{21}}{\\color{red}{\\partial b}} + \\frac{\\partial L}{\\partial y_{22}}\\frac{\\partial y_{22}}{\\color{red}{\\partial b}}\n",
    "$$"
   ]
  },
  {
   "cell_type": "markdown",
   "id": "b10a2531",
   "metadata": {},
   "source": [
    "Now we can replace $\\frac{\\partial y_{ij}}{\\partial x_{mn}}$, $\\frac{\\partial y_{ij}}{\\partial w_{mn}}$ and $\\frac{\\partial y_{ij}}{\\partial b}$ with actual values:\n",
    "\n",
    "$$\n",
    "\\frac{\\partial L}{\\partial x_{11}} = \\frac{\\partial L}{\\partial y_{11}}\\color{green}{w_{11}} + \\frac{\\partial L}{\\partial y_{12}}\\color{green}{0} + \\frac{\\partial L}{\\partial y_{21}}\\color{green}{0} + \\frac{\\partial L}{\\partial y_{22}}\\color{green}{0}\\\\\n",
    "\\frac{\\partial L}{\\partial x_{12}} = \\frac{\\partial L}{\\partial y_{11}}\\color{green}{w_{12}} + \\frac{\\partial L}{\\partial y_{12}}\\color{green}{w_{11}} + \\frac{\\partial L}{\\partial y_{21}}\\color{green}{0} + \\frac{\\partial L}{\\partial y_{22}}\\color{green}{0}\\\\\n",
    "...\\\\\n",
    "...\\\\\n",
    "\\\\\n",
    "\\frac{\\partial L}{\\partial w_{11}} = \\frac{\\partial L}{\\partial y_{11}}\\color{green}{x_{11}} + \\frac{\\partial L}{\\partial y_{12}}\\color{green}{x_{12}} + \\frac{\\partial L}{\\partial y_{21}}\\color{green}{x_{21}} + \\frac{\\partial L}{\\partial y_{22}}\\color{green}{x_{22}}\\\\\n",
    "...\\\\\n",
    "...\\\\\n",
    "\\frac{\\partial L}{\\partial b} = \\frac{\\partial L}{\\partial y_{11}}\\color{green}{1} + \\frac{\\partial L}{\\partial y_{12}}\\color{green}{1} + \\frac{\\partial L}{\\partial y_{21}}\\color{green}{1} + \\frac{\\partial L}{\\partial y_{22}}\\color{green}{1}\n",
    "$$"
   ]
  },
  {
   "cell_type": "markdown",
   "id": "4363810f",
   "metadata": {},
   "source": [
    "The simplest one is bias: derivative of $L$ with respect to $b$ is just sum of derivatives of output. With $X$ and $W$ it is more complex:\n",
    "\n",
    "$$\n",
    "\\frac{\\partial L}{\\partial x_{11}} = \\frac{\\partial L}{\\partial y_{11}}\\color{green}{w_{11}}\\\\\n",
    "\\frac{\\partial L}{\\partial x_{12}} = \\frac{\\partial L}{\\partial y_{11}}\\color{green}{w_{12}} + \\frac{\\partial L}{\\partial y_{12}}\\color{green}{w_{11}}\\\\\n",
    "...\\\\\n",
    "...\\\\\n",
    "\\\\\n",
    "\\frac{\\partial L}{\\partial w_{11}} = \\frac{\\partial L}{\\partial y_{11}}\\color{green}{x_{11}} + \\frac{\\partial L}{\\partial y_{12}}\\color{green}{x_{12}} + \\frac{\\partial L}{\\partial y_{21}}\\color{green}{x_{21}} + \\frac{\\partial L}{\\partial y_{22}}\\color{green}{x_{22}}\\\\\n",
    "$$"
   ]
  },
  {
   "cell_type": "markdown",
   "id": "33d5b2c7",
   "metadata": {},
   "source": [
    "But if we write all these formulas down, we can see that they clearly have patterns. And the good news is that we can represent these patterns in a simple way, which is easy to remember. Actually I found two ways to represent these calculations. So let's go to the result section."
   ]
  },
  {
   "cell_type": "markdown",
   "id": "c50b3478",
   "metadata": {},
   "source": [
    "## Result: useful and simple representations of backward calculations\n",
    "There are two ways to represent derivative calculations. You can pick whatever is more intuitive for you."
   ]
  },
  {
   "cell_type": "markdown",
   "id": "812419e6",
   "metadata": {},
   "source": [
    "### 1. Derivatives are ... convolutions as well !"
   ]
  },
  {
   "cell_type": "markdown",
   "id": "2741a20a",
   "metadata": {},
   "source": [
    "Matrix of derivatives $\\frac{\\partial L}{\\partial W}$ is a convolution between $X$ and $\\frac{\\partial L}{\\partial Y}$:\n",
    "\n",
    "$$\n",
    "\\begin{vmatrix}\n",
    "w_{11} & w_{12}\\\\\n",
    "w_{21} & w_{22}\n",
    "\\end{vmatrix}\n",
    "=\n",
    "\\begin{vmatrix}\n",
    "x_{11} & x_{12} & x_{13}\\\\\n",
    "x_{21} & x_{22} & x_{23}\\\\\n",
    "x_{31} & x_{32} & x_{33}\n",
    "\\end{vmatrix}\n",
    "*\n",
    "\\begin{vmatrix}\n",
    "\\frac{\\partial L}{\\partial y_{11}} & \\frac{\\partial L}{\\partial y_{12}}\\\\\n",
    "\\frac{\\partial L}{\\partial y_{21}} & \\frac{\\partial L}{\\partial y_{22}}\n",
    "\\end{vmatrix}\n",
    "$$"
   ]
  },
  {
   "cell_type": "markdown",
   "id": "0d95c993",
   "metadata": {},
   "source": [
    "Matrix of derivatives $\\frac{\\partial L}{\\partial X}$ is a convolution between 0-padded $\\frac{\\partial L}{\\partial Y}$ and flipped both vertically and horizontally $W$:\n",
    "\n",
    "$$\n",
    "\\begin{vmatrix}\n",
    "\\frac{\\partial L}{\\partial x_{11}} & \\frac{\\partial L}{\\partial x_{12}} & \\frac{\\partial L}{\\partial x_{13}}\\\\\n",
    "\\frac{\\partial L}{\\partial x_{21}} & \\frac{\\partial L}{\\partial x_{22}} & \\frac{\\partial L}{\\partial x_{23}}\\\\\n",
    "\\frac{\\partial L}{\\partial x_{31}} & \\frac{\\partial L}{\\partial x_{32}} & \\frac{\\partial L}{\\partial x_{33}}\n",
    "\\end{vmatrix}\n",
    "=\n",
    "\\begin{vmatrix}\n",
    "0 & 0 & 0 & 0\\\\\n",
    "0 & \\frac{\\partial L}{\\partial y_{11}} & \\frac{\\partial L}{\\partial y_{12}} & 0\\\\\n",
    "0 & \\frac{\\partial L}{\\partial y_{21}} & \\frac{\\partial L}{\\partial y_{22}} & 0\\\\\n",
    "0 & 0 & 0 & 0\n",
    "\\end{vmatrix}\n",
    "*\n",
    "\\begin{vmatrix}\n",
    "w_{22} & w_{21}\\\\\n",
    "w_{12} & w_{11}\n",
    "\\end{vmatrix}\n",
    "$$"
   ]
  },
  {
   "cell_type": "markdown",
   "id": "7ae0b69b",
   "metadata": {},
   "source": [
    "It was already mentioned that $\\frac{\\partial L}{\\partial b}$ is just a sum of $\\frac{\\partial L}{\\partial y_{ij}}$ , but for the purpose of unification we can represent it as convolution as well: convolution between $\\frac{\\partial L}{\\partial Y}$ and matrix of ones:\n",
    "\n",
    "$$\n",
    "\\frac{\\partial L}{\\partial b}\n",
    "=\n",
    "\\begin{vmatrix}\n",
    "\\frac{\\partial L}{\\partial y_{11}} & \\frac{\\partial L}{\\partial y_{12}}\\\\\n",
    "\\frac{\\partial L}{\\partial y_{21}} & \\frac{\\partial L}{\\partial y_{22}}\n",
    "\\end{vmatrix}\n",
    "*\n",
    "\\begin{vmatrix}\n",
    "1 & 1\\\\\n",
    "1 & 1\n",
    "\\end{vmatrix}\n",
    "$$"
   ]
  },
  {
   "cell_type": "markdown",
   "id": "10430062",
   "metadata": {},
   "source": [
    "### 2. Derivatives are sum of components weighted by $\\frac{\\partial L}{\\partial y_{ij}}$"
   ]
  },
  {
   "cell_type": "markdown",
   "id": "1fdf0092",
   "metadata": {},
   "source": [
    "Matrix of derivatives $\\frac{\\partial L}{\\partial W}$ is a sum of patches of X weighted by $\\frac{\\partial L}{\\partial y_{ij}}$:\n",
    "\n",
    "$$\n",
    "\\begin{vmatrix}\n",
    "\\frac{\\partial L}{\\partial w_{11}} & \\frac{\\partial L}{\\partial w_{12}}\\\\\n",
    "\\frac{\\partial L}{\\partial w_{21}} & \\frac{\\partial L}{\\partial w_{22}}\n",
    "\\end{vmatrix}\n",
    "=\n",
    "\\frac{\\partial L}{\\partial y_{11}} \n",
    "\\begin{vmatrix}\n",
    "x_{11} & x_{12}\\\\\n",
    "x_{21} & x_{22}\n",
    "\\end{vmatrix}\n",
    "+\n",
    "\\frac{\\partial L}{\\partial y_{12}}\n",
    "\\begin{vmatrix}\n",
    "x_{12} & x_{13}\\\\\n",
    "x_{22} & x_{23}\\\\\n",
    "\\end{vmatrix}\n",
    "+\n",
    "\\frac{\\partial L}{\\partial y_{21}} \n",
    "\\begin{vmatrix}\n",
    "x_{21} & x_{22}\\\\\n",
    "x_{31} & x_{32}\n",
    "\\end{vmatrix}\n",
    "+\n",
    "\\frac{\\partial L}{\\partial y_{22}}\n",
    "\\begin{vmatrix}\n",
    "x_{22} & x_{23}\\\\\n",
    "x_{32} & x_{33}\n",
    "\\end{vmatrix}\n",
    "$$"
   ]
  },
  {
   "cell_type": "markdown",
   "id": "6662b4e4",
   "metadata": {},
   "source": [
    "Matrix of derivatives $\\frac{\\partial L}{\\partial X}$ is a sum of zero-padded filters weighted by $\\frac{\\partial L}{\\partial y_{ij}}$:\n",
    "\n",
    "$$\n",
    "\\begin{vmatrix}\n",
    "\\frac{\\partial L}{\\partial x_{11}} & \\frac{\\partial L}{\\partial x_{12}} & \\frac{\\partial L}{\\partial x_{13}}\\\\\n",
    "\\frac{\\partial L}{\\partial x_{21}} & \\frac{\\partial L}{\\partial x_{22}} & \\frac{\\partial L}{\\partial x_{23}}\\\\\n",
    "\\frac{\\partial L}{\\partial x_{31}} & \\frac{\\partial L}{\\partial x_{32}} & \\frac{\\partial L}{\\partial x_{33}}\n",
    "\\end{vmatrix}\n",
    "=\n",
    "\\frac{\\partial L}{\\partial y_{11}} \n",
    "\\begin{vmatrix}\n",
    "w_{11} & w_{12} & 0\\\\\n",
    "w_{21} & w_{22} & 0\\\\\n",
    "0 & 0 & 0\n",
    "\\end{vmatrix}\n",
    "+\n",
    "\\frac{\\partial L}{\\partial y_{12}}\n",
    "\\begin{vmatrix}\n",
    "0 & w_{11} & w_{12}\\\\\n",
    "0 & w_{21} & w_{22}\\\\\n",
    "0 & 0 & 0\n",
    "\\end{vmatrix}\n",
    "+\n",
    "\\frac{\\partial L}{\\partial y_{21}} \n",
    "\\begin{vmatrix}\n",
    "0 & 0 & 0\\\\\n",
    "w_{11} & w_{12} & 0\\\\\n",
    "w_{21} & w_{22} & 0\\\\\n",
    "\\end{vmatrix}\n",
    "+\n",
    "\\frac{\\partial L}{\\partial y_{22}}\n",
    "\\begin{vmatrix}\n",
    "0 & 0 & 0\\\\\n",
    "0 & w_{11} & w_{12}\\\\\n",
    "0 & w_{21} & w_{22}\\\\\n",
    "\\end{vmatrix}\n",
    "$$"
   ]
  },
  {
   "cell_type": "markdown",
   "id": "aa18ce38",
   "metadata": {},
   "source": [
    "It was already mentioned that $\\frac{\\partial L}{\\partial b}$ is just a sum of $\\frac{\\partial L}{\\partial y_{ij}}$ , but for the purpose of unification we can represent it as sum of ones weighted by $\\frac{\\partial L}{\\partial y_{ij}}$:\n",
    "\n",
    "$$\n",
    "\\frac{\\partial L}{\\partial b}\n",
    "=\n",
    "\\frac{\\partial L}{\\partial y_{11}} \n",
    "1\n",
    "+\n",
    "\\frac{\\partial L}{\\partial y_{12}}\n",
    "1\n",
    "+\n",
    "\\frac{\\partial L}{\\partial y_{21}} \n",
    "1\n",
    "+\n",
    "\\frac{\\partial L}{\\partial y_{22}}\n",
    "1\n",
    "$$"
   ]
  }
 ],
 "metadata": {
  "kernelspec": {
   "display_name": "Python 3 (ipykernel)",
   "language": "python",
   "name": "python3"
  },
  "language_info": {
   "codemirror_mode": {
    "name": "ipython",
    "version": 3
   },
   "file_extension": ".py",
   "mimetype": "text/x-python",
   "name": "python",
   "nbconvert_exporter": "python",
   "pygments_lexer": "ipython3",
   "version": "3.9.12"
  }
 },
 "nbformat": 4,
 "nbformat_minor": 5
}
